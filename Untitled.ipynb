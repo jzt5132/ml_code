{
 "cells": [
  {
   "cell_type": "code",
   "execution_count": null,
   "id": "4b45bbc7-e406-46d7-aa0f-f23f6718bfe9",
   "metadata": {},
   "outputs": [],
   "source": [
    "import numpy as np"
   ]
  },
  {
   "cell_type": "code",
   "execution_count": null,
   "id": "05c32b4b-0ac4-4629-a523-9c367edb4722",
   "metadata": {},
   "outputs": [],
   "source": [
    "\n",
    "import numpy as np \n",
    "import pandas as pd \n",
    "import matplotlib.pyplot as plt \n",
    "\n",
    "#----------read data---------\n",
    "data = pd.read_csv('fulldata.dat', sep = '\\s+')\n",
    "data = data[data['logRc'] > -6]\n",
    "print (data.columns)\n",
    "print (data.shape)\n",
    "\n"
   ]
  },
  {
   "cell_type": "code",
   "execution_count": null,
   "id": "c861aa42-ec76-4555-8150-07480d4ba967",
   "metadata": {},
   "outputs": [],
   "source": [
    "data['epsilon1'] = (data['eBB'] - data['eAA']) / (data['eBB'] + data['eAA'])\n",
    "data['epsilon2'] = 2 * data['eAB'] / (data['eBB'] + data['eAA'])\n",
    "data['sigma'] = (data['rBB'] - data['rAA']) / data['rAB']"
   ]
  },
  {
   "cell_type": "code",
   "execution_count": null,
   "id": "c2157790-bea8-4b48-b08d-de950d29b339",
   "metadata": {},
   "outputs": [],
   "source": [
    "#------design training and test set---------\n",
    "from sklearn.model_selection import train_test_split\n",
    "\n",
    "medium = [i for i in data.columns if i != 'logRc']\n"
   ]
  },
  {
   "cell_type": "code",
   "execution_count": null,
   "id": "81c7ff67-aeb7-4dff-8b72-4c50cc8680b4",
   "metadata": {},
   "outputs": [],
   "source": []
  },
  {
   "cell_type": "code",
   "execution_count": null,
   "id": "2c6d0455-bc8d-4fd0-88e0-131ff0f578ab",
   "metadata": {},
   "outputs": [],
   "source": []
  }
 ],
 "metadata": {
  "kernelspec": {
   "display_name": "Python 3 (ipykernel)",
   "language": "python",
   "name": "python3"
  },
  "language_info": {
   "codemirror_mode": {
    "name": "ipython",
    "version": 3
   },
   "file_extension": ".py",
   "mimetype": "text/x-python",
   "name": "python",
   "nbconvert_exporter": "python",
   "pygments_lexer": "ipython3",
   "version": "3.10.5"
  }
 },
 "nbformat": 4,
 "nbformat_minor": 5
}
